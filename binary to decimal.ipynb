{
 "cells": [
  {
   "cell_type": "code",
   "execution_count": 1,
   "id": "448c3018",
   "metadata": {},
   "outputs": [
    {
     "name": "stdout",
     "output_type": "stream",
     "text": [
      "Enter no. to convert:32\n",
      "Binary no. : 100000\n"
     ]
    }
   ],
   "source": [
    "def dec2bin():\n",
    "    n = int(input(\"Enter no. to convert:\"))\n",
    "    p = 1\n",
    "    r = 0\n",
    "    while n>0:\n",
    "        r += (n%2) * p\n",
    "        n=int(n/2)\n",
    "        p = p * 10\n",
    "    print(\"Binary no. :\",r)\n",
    "dec2bin()"
   ]
  },
  {
   "cell_type": "code",
   "execution_count": 2,
   "id": "3fbde155",
   "metadata": {},
   "outputs": [
    {
     "name": "stdout",
     "output_type": "stream",
     "text": [
      "Enter any binary no 1000\n",
      "decimal no : 8\n"
     ]
    }
   ],
   "source": [
    "num = int(input(\"Enter any binary no \"))\n",
    "\n",
    "sum = 0\n",
    "i = 0 \n",
    "while num!=0:\n",
    "    rem = num %10\n",
    "    sum = sum + rem * pow(2,i)\n",
    "    num = int(num/10)\n",
    "    i=i+1\n",
    "print(\"decimal no :\",sum)\n"
   ]
  },
  {
   "cell_type": "code",
   "execution_count": null,
   "id": "652f4a4f",
   "metadata": {},
   "outputs": [],
   "source": []
  }
 ],
 "metadata": {
  "kernelspec": {
   "display_name": "Python 3",
   "language": "python",
   "name": "python3"
  },
  "language_info": {
   "codemirror_mode": {
    "name": "ipython",
    "version": 3
   },
   "file_extension": ".py",
   "mimetype": "text/x-python",
   "name": "python",
   "nbconvert_exporter": "python",
   "pygments_lexer": "ipython3",
   "version": "3.8.8"
  }
 },
 "nbformat": 4,
 "nbformat_minor": 5
}
